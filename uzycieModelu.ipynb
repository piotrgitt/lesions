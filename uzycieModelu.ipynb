{
 "cells": [
  {
   "cell_type": "code",
   "execution_count": 1,
   "id": "5fe993ee-17f9-411f-8746-4a6fc3f48d85",
   "metadata": {},
   "outputs": [],
   "source": [
    "from keras.models import Sequential\n",
    "from keras.models import load_model\n",
    "from keras.preprocessing import image\n",
    "import numpy as np"
   ]
  },
  {
   "cell_type": "code",
   "execution_count": 5,
   "id": "1dac1f12-57c9-4c9d-af28-39ceae23fc24",
   "metadata": {},
   "outputs": [],
   "source": [
    "model = load_model('MODELS/testModel.h5')\n"
   ]
  },
  {
   "cell_type": "code",
   "execution_count": 6,
   "id": "35b33b8f-80fc-444c-a9e1-213da604c957",
   "metadata": {},
   "outputs": [],
   "source": [
    "probability  = None"
   ]
  },
  {
   "cell_type": "code",
   "execution_count": 8,
   "id": "1bdabf57-f6a6-4d74-8f3f-9a04c8142ccb",
   "metadata": {},
   "outputs": [],
   "source": [
    "def predict(image_path):\n",
    "    zmiana_plik = image_path\n",
    "    zmiana = image.load_img(zmiana_plik, target_size = (224,224))\n",
    "    zmiana = image.img_to_array(zmiana)\n",
    "    zmiana = np.expand_dims(zmiana, axis = 0)\n",
    "    zmiana = zmiana/255\n",
    "    predict_x=model.predict(zmiana) \n",
    "    classes_x=np.argmax(predict_x,axis=1)\n",
    "    probability = classes_x\n",
    "    def switch_demo(argument):\n",
    "        switcher = {\n",
    "            0: \"Actinic keratoses - Zrogowacenie\",\n",
    "            1: \"Basal cell carcinoma - rak podstawnokomórkowy \",\n",
    "            2: \"Benign keratosis-like - łagodna zmiana skórna\",\n",
    "            3: \"Dermatofibroma - włókniak skórny\",\n",
    "            4: \"Melanoma - czerniak\",\n",
    "            5: \"Nevus - znamię melanocytowe\",\n",
    "            6: \"Vascular lesion - zmiana naczyniowa\",\n",
    "        }\n",
    "        return switcher.get(argument, \"nothing\")\n",
    "    \n",
    "    return switch_demo(classes_x[0])\n",
    "    \n"
   ]
  },
  {
   "cell_type": "code",
   "execution_count": 16,
   "id": "3e2577e0-b984-4266-9f64-07cfb242b7b3",
   "metadata": {},
   "outputs": [
    {
     "data": {
      "text/plain": [
       "0.3704342"
      ]
     },
     "execution_count": 16,
     "metadata": {},
     "output_type": "execute_result"
    }
   ],
   "source": [
    "    zmiana_plik = \"DATA/reorganizedHAM/test/mel/ISIC_0024554.jpg\"\n",
    "    zmiana = image.load_img(zmiana_plik, target_size = (224,224))\n",
    "    zmiana = image.img_to_array(zmiana)\n",
    "    zmiana = np.expand_dims(zmiana, axis = 0)\n",
    "    zmiana = zmiana/255\n",
    "    predict_x=model.predict(zmiana) \n",
    "    classes_x=np.argmax(predict_x,axis=1)\n",
    "    probability = max(predict_x[0])\n",
    "    probability"
   ]
  },
  {
   "cell_type": "code",
   "execution_count": 11,
   "id": "6cf09795-c80b-451b-a116-38abaadd1158",
   "metadata": {
    "tags": []
   },
   "outputs": [
    {
     "data": {
      "text/plain": [
       "array([[1.6936373e-03, 1.4776859e-03, 1.4460933e-03, 2.7205888e-04,\n",
       "        4.4346876e-02, 9.5061499e-01, 1.4855299e-04]], dtype=float32)"
      ]
     },
     "execution_count": 11,
     "metadata": {},
     "output_type": "execute_result"
    }
   ],
   "source": []
  },
  {
   "cell_type": "code",
   "execution_count": null,
   "id": "a781a915-1183-4cdd-a304-0182623f719b",
   "metadata": {},
   "outputs": [],
   "source": []
  },
  {
   "cell_type": "code",
   "execution_count": 46,
   "id": "1d86a035-5c38-43fa-b564-192492e004c5",
   "metadata": {},
   "outputs": [],
   "source": []
  },
  {
   "cell_type": "code",
   "execution_count": 47,
   "id": "7a2f8ac3-612d-4df0-9f33-a454bee502ff",
   "metadata": {},
   "outputs": [],
   "source": []
  },
  {
   "cell_type": "code",
   "execution_count": null,
   "id": "3b59940e-71fd-4a1e-8297-dd85ba72b907",
   "metadata": {},
   "outputs": [],
   "source": []
  },
  {
   "cell_type": "code",
   "execution_count": null,
   "id": "add0afd7-941a-45ea-a1f4-3af39c89366e",
   "metadata": {},
   "outputs": [],
   "source": []
  }
 ],
 "metadata": {
  "kernelspec": {
   "display_name": "Python 3 (ipykernel)",
   "language": "python",
   "name": "python3"
  },
  "language_info": {
   "codemirror_mode": {
    "name": "ipython",
    "version": 3
   },
   "file_extension": ".py",
   "mimetype": "text/x-python",
   "name": "python",
   "nbconvert_exporter": "python",
   "pygments_lexer": "ipython3",
   "version": "3.10.4"
  }
 },
 "nbformat": 4,
 "nbformat_minor": 5
}
