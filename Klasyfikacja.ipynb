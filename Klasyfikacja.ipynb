{
 "cells": [
  {
   "cell_type": "code",
   "execution_count": 1,
   "id": "509e3adb-2e68-4a7a-85ac-644276f46a29",
   "metadata": {},
   "outputs": [],
   "source": [
    "import numpy as np\n",
    "import os\n",
    "import pandas as pd\n",
    "from PIL import Image\n",
    "from glob import glob\n",
    "import seaborn as sns\n",
    "import matplotlib.pyplot as plt\n",
    "import keras\n",
    "from keras.models import  Sequential\n",
    "from keras.layers import  BatchNormalization, Dense,Flatten,MaxPool2D, Conv2D, Dropout, Activation\n",
    "from keras.utils.np_utils import to_categorical \n",
    "from scipy import stats\n",
    "import sklearn\n",
    "from sklearn.utils import resample\n",
    "from sklearn.preprocessing import LabelEncoder\n",
    "from sklearn.model_selection import train_test_split\n",
    "from sklearn.metrics import confusion_matrix\n",
    "import tensorflow as tf"
   ]
  },
  {
   "cell_type": "code",
   "execution_count": 2,
   "id": "b704111e-eeac-4488-a636-2cce28eba211",
   "metadata": {},
   "outputs": [
    {
     "data": {
      "image/png": "[encoded data removed]",
      "text/plain": [
       "<Figure size 1008x720 with 1 Axes>"
      ]
     },
     "metadata": {
      "needs_background": "light"
     },
     "output_type": "display_data"
    }
   ],
   "source": [
    "#stworzenie dataframe z pliku CSV\n",
    "CSV = pd.read_csv('DATA/ham10000/HAM10000_metadata.csv')\n",
    "#ładowanie klas zmian do listy\n",
    "le = LabelEncoder()\n",
    "le.fit(CSV['dx'])\n",
    "#Dodanie kolumny LABEL z numerkiem od 0 do 6, który identyfikuje daną zmianę\n",
    "CSV['label'] = le.transform(CSV['dx'])\n",
    "\n",
    "#Tworzenie wykresu z danych\n",
    "fig = plt.figure(figsize=(14,10))\n",
    "dataPlot = fig.add_subplot(224)\n",
    "CSV['dx'].value_counts().plot( ax=dataPlot,  kind='bar')\n",
    "dataPlot.set_ylabel('Liczba obrazów')\n",
    "dataPlot.set_title('Klasy zmian skórnych');\n",
    "plt.show()"
   ]
  },
  {
   "cell_type": "code",
   "execution_count": null,
   "id": "ff448b4b-0fad-452f-b580-b276ed52d92f",
   "metadata": {},
   "outputs": [],
   "source": []
  },
  {
   "cell_type": "code",
   "execution_count": 3,
   "id": "a5372858-fc09-4d14-94ae-dcb5b00a1279",
   "metadata": {},
   "outputs": [
    {
     "data": {
      "image/png": "[encoded data removed]",
      "text/plain": [
       "<Figure size 1008x720 with 1 Axes>"
      ]
     },
     "metadata": {
      "needs_background": "light"
     },
     "output_type": "display_data"
    }
   ],
   "source": [
    "#Balansowanie danych\n",
    "#przypisywanie każdej klasy osobno ma na celu ulepszanie(augmenting) każdej z tych klas osobno\n",
    "probki = 500\n",
    "klasa0 = CSV[CSV['label'] == 0]\n",
    "klasa1 = CSV[CSV['label'] == 1]\n",
    "klasa2 = CSV[CSV['label'] == 2]\n",
    "klasa3 = CSV[CSV['label'] == 3]\n",
    "klasa4 = CSV[CSV['label'] == 4]\n",
    "klasa5 = CSV[CSV['label'] == 5]\n",
    "klasa6 = CSV[CSV['label'] == 6]\n",
    "#wyrównywanie zbioru danych. Jeśli jest wiecej niż 500 plików to obniża ich ilość do liczby 500, jeśli więcej to generuje ich tyle, żeby równało się ich 500\n",
    "klasa0_wyrownana = resample(klasa0, replace = True, n_samples = probki) \n",
    "klasa1_wyrownana = resample(klasa1, replace = True, n_samples = probki) \n",
    "klasa2_wyrownana = resample(klasa2, replace = True, n_samples = probki) \n",
    "klasa3_wyrownana = resample(klasa3, replace = True, n_samples = probki) \n",
    "klasa4_wyrownana = resample(klasa4, replace = True, n_samples = probki)\n",
    "klasa5_wyrownana = resample(klasa5, replace = True, n_samples = probki)\n",
    "klasa6_wyrownana = resample(klasa6, replace = True, n_samples = probki)\n",
    "CSV_wyrownane = pd.concat([klasa0_wyrownana,klasa1_wyrownana,klasa2_wyrownana,klasa3_wyrownana,klasa4_wyrownana,klasa5_wyrownana,klasa6_wyrownana])\n",
    "\n",
    "#Tworzenie wykresu z danych\n",
    "fig = plt.figure(figsize=(14,10))\n",
    "dataPlot = fig.add_subplot(224)\n",
    "CSV_wyrownane['dx'].value_counts().plot(  ax=dataPlot, kind='bar')\n",
    "dataPlot.set_title('Klasy zmian skórnych');\n",
    "dataPlot.set_ylabel('Liczba obrazów')\n",
    "plt.show()"
   ]
  },
  {
   "cell_type": "code",
   "execution_count": 4,
   "id": "cad6b7c5-f651-4e8e-b990-38e506b3374f",
   "metadata": {},
   "outputs": [],
   "source": [
    "#Czytanie ścieżek zdjęć bazująć na ID z pliku CSV\n",
    "image_path = {os.path.splitext(os.path.basename(x))[0]: x\n",
    "              for x in glob(os.path.join('DATA/ham10000/','*', '*.jpg'))}\n",
    "#do wyrównanej tabeli dataframe dodano kolejną kolumnę 'path' wraz z ścieżkami do każdego obrazu\n",
    "CSV_wyrownane['path'] = CSV_wyrownane['image_id'].map(image_path.get)\n",
    "#użycie biblioteki 'pillow' do załadowania zdjęcia, zmiany rozmiaru zdjęcia,\n",
    "#przekonwertowania zdjęcia na np.array, a następnie dodanie jej do tej samej tabeli w dodatkowej kolumnie 'image'\n",
    "SIZE = 128 #rozmiar obrazów użytych do treningu (128x128x3)\n",
    "CSV_wyrownane['image'] = CSV_wyrownane['path'].map(lambda x: np.asarray(Image.open(x).resize((SIZE,SIZE))))\n",
    "\n",
    "#konwersja kolumny zdjęć z DataFrame na listę NumpyArray\n",
    "X = np.asarray(CSV_wyrownane['image'].tolist())\n",
    "X = X/255 #normalizacja danych 0-1\n",
    "Y = CSV_wyrownane['label']\n",
    "Y_cat = to_categorical(Y, num_classes=7)  #Przykładowo, zmiana nv to (0,0,0,0,0,1,0)\n",
    "#rozdzielenie na dane treningowe i testowe\n",
    "x_train, x_test, y_train, y_test = train_test_split(X, Y_cat, test_size = 0.25)"
   ]
  },
  {
   "cell_type": "code",
   "execution_count": 9,
   "id": "07865c6c-0e53-480e-b8ca-2d30c5bc12e8",
   "metadata": {},
   "outputs": [
    {
     "name": "stdout",
     "output_type": "stream",
     "text": [
      "[1. 0. 0. 0. 0. 0. 0.]\n"
     ]
    }
   ],
   "source": [
    "print(y_train[0])"
   ]
  },
  {
   "cell_type": "code",
   "execution_count": null,
   "id": "0ce058ff-6fcb-4fcf-9298-71e8a230c5e8",
   "metadata": {},
   "outputs": [],
   "source": []
  },
  {
   "cell_type": "code",
   "execution_count": 7,
   "id": "3a3ce671-dadf-4183-b80c-cd6410349692",
   "metadata": {},
   "outputs": [],
   "source": [
    "tb_callback = tf.keras.callbacks.TensorBoard(log_dir=\"logs/\", histogram_freq=1)"
   ]
  },
  {
   "cell_type": "code",
   "execution_count": 5,
   "id": "890d49b3-667c-4ea2-99ad-e7b5e1fba22e",
   "metadata": {},
   "outputs": [
    {
     "name": "stdout",
     "output_type": "stream",
     "text": [
      "Model: \"sequential\"\n",
      "_________________________________________________________________\n",
      " Layer (type)                Output Shape              Param #   \n",
      "=================================================================\n",
      " conv2d (Conv2D)             (None, 126, 126, 256)     7168      \n",
      "                                                                 \n",
      " max_pooling2d (MaxPooling2D  (None, 63, 63, 256)      0         \n",
      " )                                                               \n",
      "                                                                 \n",
      " dropout (Dropout)           (None, 63, 63, 256)       0         \n",
      "                                                                 \n",
      " conv2d_1 (Conv2D)           (None, 61, 61, 256)       590080    \n",
      "                                                                 \n",
      " max_pooling2d_1 (MaxPooling  (None, 30, 30, 256)      0         \n",
      " 2D)                                                             \n",
      "                                                                 \n",
      " dropout_1 (Dropout)         (None, 30, 30, 256)       0         \n",
      "                                                                 \n",
      " conv2d_2 (Conv2D)           (None, 28, 28, 128)       295040    \n",
      "                                                                 \n",
      " max_pooling2d_2 (MaxPooling  (None, 14, 14, 128)      0         \n",
      " 2D)                                                             \n",
      "                                                                 \n",
      " dropout_2 (Dropout)         (None, 14, 14, 128)       0         \n",
      "                                                                 \n",
      " conv2d_3 (Conv2D)           (None, 12, 12, 64)        73792     \n",
      "                                                                 \n",
      " max_pooling2d_3 (MaxPooling  (None, 6, 6, 64)         0         \n",
      " 2D)                                                             \n",
      "                                                                 \n",
      " dropout_3 (Dropout)         (None, 6, 6, 64)          0         \n",
      "                                                                 \n",
      " flatten (Flatten)           (None, 2304)              0         \n",
      "                                                                 \n",
      " dense (Dense)               (None, 32)                73760     \n",
      "                                                                 \n",
      " dense_1 (Dense)             (None, 7)                 231       \n",
      "                                                                 \n",
      "=================================================================\n",
      "Total params: 1,040,071\n",
      "Trainable params: 1,040,071\n",
      "Non-trainable params: 0\n",
      "_________________________________________________________________\n"
     ]
    }
   ],
   "source": [
    "#definiowanie modelu\n",
    "#cztery warstwy CNN\n",
    "#jedna warstwa DNN\n",
    "\n",
    "model = Sequential()\n",
    "model.add(Conv2D(256, (3, 3), activation=\"relu\", input_shape=(SIZE, SIZE, 3)))\n",
    "model.add(MaxPool2D(pool_size=(2, 2)))  \n",
    "model.add(Dropout(0.3))\n",
    "\n",
    "model.add(Conv2D(256, (3, 3), activation=\"relu\"))\n",
    "model.add(MaxPool2D(pool_size=(2, 2)))  \n",
    "model.add(Dropout(0.3))\n",
    "\n",
    "model.add(Conv2D(128, (3, 3),activation='relu'))\n",
    "model.add(MaxPool2D(pool_size=(2, 2)))  \n",
    "model.add(Dropout(0.3))\n",
    "\n",
    "model.add(Conv2D(64, (3, 3),activation='relu'))\n",
    "model.add(MaxPool2D(pool_size=(2, 2)))  \n",
    "model.add(Dropout(0.30))\n",
    "model.add(Flatten())\n",
    "\n",
    "model.add(Dense(32))\n",
    "model.add(Dense(7, activation='softmax'))\n",
    "model.summary()\n",
    "\n",
    "model.compile(loss='categorical_crossentropy', optimizer='Adam', metrics=['acc'])"
   ]
  },
  {
   "cell_type": "code",
   "execution_count": 9,
   "id": "65bf31f6-8463-40fc-9e6c-a8e887497c3b",
   "metadata": {},
   "outputs": [
    {
     "name": "stdout",
     "output_type": "stream",
     "text": [
      "Epoch 1/5\n",
      "165/165 [==============================] - 78s 419ms/step - loss: 1.9499 - acc: 0.1672 - val_loss: 1.9116 - val_acc: 0.2069\n",
      "Epoch 2/5\n",
      "165/165 [==============================] - 66s 399ms/step - loss: 1.8295 - acc: 0.2236 - val_loss: 1.7543 - val_acc: 0.2663\n",
      "Epoch 3/5\n",
      "165/165 [==============================] - 66s 400ms/step - loss: 1.7494 - acc: 0.2697 - val_loss: 1.7560 - val_acc: 0.2891\n",
      "Epoch 4/5\n",
      "165/165 [==============================] - 68s 415ms/step - loss: 1.6859 - acc: 0.2964 - val_loss: 1.5354 - val_acc: 0.4183\n",
      "Epoch 5/5\n",
      "165/165 [==============================] - 76s 461ms/step - loss: 1.6013 - acc: 0.3691 - val_loss: 1.7295 - val_acc: 0.3051\n"
     ]
    }
   ],
   "source": [
    "#Trenowanie modelu\n",
    "model = model.fit(x_train, y_train, epochs = 80, batch_size = 16, validation_data = (x_test, y_test), verbose = 2, callbacks=[tb_callback],steps_per_epoch=165)"
   ]
  },
  {
   "cell_type": "code",
   "execution_count": null,
   "id": "aabc1df4-2820-4fc3-ad20-6eb8f91ad4a4",
   "metadata": {},
   "outputs": [],
   "source": [
    "#ewaluacja wyników\n",
    "score = model.evaluate(x_test, y_test)\n",
    "print('Dokładność: ', score[1], 'Strata:', score[0])\n",
    "#Wykresy\n",
    "loss = history.history['loss']\n",
    "val_loss = history.history['val_loss']\n",
    "epochs = range(1, len(loss) + 1)\n",
    "plt.plot(epochs, loss, 'y', label='Strata danych treningowych')\n",
    "plt.plot(epochs, val_loss, 'r', label='Strata danych walidacyjnych')\n",
    "plt.title('Strata danych treningowych i walidacyjnych')\n",
    "plt.ylabel('Strata')\n",
    "plt.xlabel('Przejścia')\n",
    "plt.legend()\n",
    "plt.show()\n",
    "\n",
    "#Dokładność i strata\n",
    "acc = history.history['acc']\n",
    "val_acc = history.history['val_acc']\n",
    "plt.plot(epochs, acc, 'y', label='Dokładność danych treningowych')\n",
    "plt.plot(epochs, val_acc, 'r', label='Dokładność danych walidacyjnych')\n",
    "plt.title('Dokładność danych walidacyjnych i treningowych')\n",
    "plt.ylabel('Dokładność')\n",
    "plt.xlabel('Przejscia')\n",
    "plt.legend()\n",
    "plt.show()\n",
    "\n",
    "# sprawdzenie predykcji na danych testowych, których algorytm nie widział\n",
    "y_pred = model.predict(x_test) \n",
    "y_pred_classes = np.argmax(y_pred, axis = 1) \n",
    "y_true = np.argmax(y_test, axis = 1) \n",
    "\n",
    "#macierz konfuzji\n",
    "cm = confusion_matrix(y_true, y_pred_classes)\n",
    "fig, ax = plt.subplots(figsize=(6,6))\n",
    "sns.set(font_scale=1.6)\n",
    "sns.heatmap(cm, annot=True, linewidths=.5, ax=ax)\n",
    "\n",
    "#Wykres nieprawidłowych predykcji modelu\n",
    "incorr_fraction = 1 - np.diag(cm) / np.sum(cm, axis=1)\n",
    "plt.bar(np.arange(7), incorr_fraction)\n",
    "plt.xlabel('Klasy')\n",
    "plt.ylabel('Ilość nieprawidłowych wyników')\n"
   ]
  },
  {
   "cell_type": "code",
   "execution_count": null,
   "id": "44decd02-9bb3-4c01-b14f-3d5f464d91b5",
   "metadata": {},
   "outputs": [],
   "source": []
  }
 ],
 "metadata": {
  "kernelspec": {
   "display_name": "Python 3 (ipykernel)",
   "language": "python",
   "name": "python3"
  },
  "language_info": {
   "codemirror_mode": {
    "name": "ipython",
    "version": 3
   },
   "file_extension": ".py",
   "mimetype": "text/x-python",
   "name": "python",
   "nbconvert_exporter": "python",
   "pygments_lexer": "ipython3",
   "version": "3.10.4"
  }
 },
 "nbformat": 4,
 "nbformat_minor": 5
}
